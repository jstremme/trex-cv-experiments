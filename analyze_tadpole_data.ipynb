{
 "cells": [
  {
   "cell_type": "markdown",
   "id": "bf3c6cb5",
   "metadata": {},
   "source": [
    "# Analyze Deformed Tadpole Output from Trex\n",
    "This notebook takes output data from the [Trex](https://github.com/mooch443/trex) compute vision tool and runs exploratory data analysis on the information provided for each tadpole."
   ]
  },
  {
   "cell_type": "markdown",
   "id": "36440f85",
   "metadata": {},
   "source": [
    "### Set Parameters for Analysis"
   ]
  },
  {
   "cell_type": "code",
   "execution_count": 13,
   "id": "8ef3e3be",
   "metadata": {},
   "outputs": [],
   "source": [
    "TREX_OUTPUT_DATA_PATH = \"/Users/jstremme/Videos/data/\""
   ]
  },
  {
   "cell_type": "markdown",
   "id": "b189a9eb",
   "metadata": {},
   "source": [
    "### Install Required Libraries"
   ]
  },
  {
   "cell_type": "code",
   "execution_count": 4,
   "id": "53c1e8e4",
   "metadata": {},
   "outputs": [],
   "source": [
    "!pip install -q numpy\n",
    "!pip install -q pandas"
   ]
  },
  {
   "cell_type": "markdown",
   "id": "6eee10c6",
   "metadata": {},
   "source": [
    "### Import Installed Libraries"
   ]
  },
  {
   "cell_type": "code",
   "execution_count": 19,
   "id": "b65d3b53",
   "metadata": {},
   "outputs": [],
   "source": [
    "import glob\n",
    "import random\n",
    "import numpy as np\n",
    "import pandas as pd"
   ]
  },
  {
   "cell_type": "markdown",
   "id": "7a34f147",
   "metadata": {},
   "source": [
    "### View Tadpole Metadata"
   ]
  },
  {
   "cell_type": "code",
   "execution_count": 16,
   "id": "598db852",
   "metadata": {},
   "outputs": [],
   "source": [
    "all_tadpole_metadata_files = glob.glob(TREX_OUTPUT_DATA_PATH + '*.npz')"
   ]
  },
  {
   "cell_type": "code",
   "execution_count": 17,
   "id": "a1449c17",
   "metadata": {},
   "outputs": [
    {
     "data": {
      "text/plain": [
       "['/Users/jstremme/Videos/data/black-pebble_tadpole12.npz',\n",
       " '/Users/jstremme/Videos/data/black-pebble_tadpole13.npz',\n",
       " '/Users/jstremme/Videos/data/black-pebble_tadpole11.npz',\n",
       " '/Users/jstremme/Videos/data/black-pebble_tadpole10.npz',\n",
       " '/Users/jstremme/Videos/data/black-pebble_tadpole9.npz',\n",
       " '/Users/jstremme/Videos/data/black-pebble_tadpole28.npz',\n",
       " '/Users/jstremme/Videos/data/black-pebble_tadpole14.npz',\n",
       " '/Users/jstremme/Videos/data/black-pebble_tadpole15.npz',\n",
       " '/Users/jstremme/Videos/data/black-pebble_tadpole29.npz',\n",
       " '/Users/jstremme/Videos/data/black-pebble_tadpole8.npz',\n",
       " '/Users/jstremme/Videos/data/black-pebble_tadpole17.npz',\n",
       " '/Users/jstremme/Videos/data/black-pebble_tadpole16.npz',\n",
       " '/Users/jstremme/Videos/data/black-pebble_tadpole6.npz',\n",
       " '/Users/jstremme/Videos/data/black-pebble_tadpole27.npz',\n",
       " '/Users/jstremme/Videos/data/black-pebble_tadpole26.npz',\n",
       " '/Users/jstremme/Videos/data/black-pebble_tadpole7.npz',\n",
       " '/Users/jstremme/Videos/data/black-pebble_tadpole5.npz',\n",
       " '/Users/jstremme/Videos/data/black-pebble_tadpole24.npz',\n",
       " '/Users/jstremme/Videos/data/black-pebble_tadpole18.npz',\n",
       " '/Users/jstremme/Videos/data/black-pebble_tadpole19.npz',\n",
       " '/Users/jstremme/Videos/data/black-pebble_tadpole25.npz',\n",
       " '/Users/jstremme/Videos/data/black-pebble_tadpole4.npz',\n",
       " '/Users/jstremme/Videos/data/black-pebble_tadpole0.npz',\n",
       " '/Users/jstremme/Videos/data/black-pebble_tadpole21.npz',\n",
       " '/Users/jstremme/Videos/data/black-pebble_tadpole20.npz',\n",
       " '/Users/jstremme/Videos/data/black-pebble_tadpole1.npz',\n",
       " '/Users/jstremme/Videos/data/black-pebble_tadpole3.npz',\n",
       " '/Users/jstremme/Videos/data/black-pebble_tadpole22.npz',\n",
       " '/Users/jstremme/Videos/data/black-pebble_tadpole23.npz',\n",
       " '/Users/jstremme/Videos/data/black-pebble_tadpole2.npz']"
      ]
     },
     "execution_count": 17,
     "metadata": {},
     "output_type": "execute_result"
    }
   ],
   "source": [
    "all_tadpole_metadata_files"
   ]
  },
  {
   "cell_type": "markdown",
   "id": "0059d191",
   "metadata": {},
   "source": [
    "### Show Available Tadpole Metadata for a Random Tadpole\n",
    "The `sample_tadpole_metadata` object contains information available for a single tadpole tracked by Trex."
   ]
  },
  {
   "cell_type": "code",
   "execution_count": 27,
   "id": "45adb33f",
   "metadata": {},
   "outputs": [],
   "source": [
    "sample_tadpole_metadata_files = random.choice(all_tadpole_metadata)\n",
    "sample_tadpole_metadata = np.load(sample_tadpole_metadata_files).files"
   ]
  },
  {
   "cell_type": "code",
   "execution_count": 28,
   "id": "04eaf5e2",
   "metadata": {},
   "outputs": [
    {
     "data": {
      "text/plain": [
       "['timestamp',\n",
       " 'normalized_midline',\n",
       " 'time',\n",
       " 'missing',\n",
       " 'midline_y',\n",
       " 'frame',\n",
       " 'Y#wcentroid',\n",
       " 'Y',\n",
       " 'X#wcentroid',\n",
       " 'ACCELERATION#pcentroid',\n",
       " 'midline_x',\n",
       " 'VY',\n",
       " 'SPEED#pcentroid',\n",
       " 'X',\n",
       " 'ANGULAR_A#centroid',\n",
       " 'AY',\n",
       " 'VX',\n",
       " 'SPEED#smooth#wcentroid',\n",
       " 'AX',\n",
       " 'SPEED#wcentroid',\n",
       " 'SPEED',\n",
       " 'ACCELERATION#wcentroid',\n",
       " 'BORDER_DISTANCE#pcentroid',\n",
       " 'ANGULAR_V#centroid',\n",
       " 'ANGLE',\n",
       " 'midline_length',\n",
       " 'segment_length',\n",
       " 'num_pixels',\n",
       " 'MIDLINE_OFFSET',\n",
       " 'frame_segments',\n",
       " 'segment_vxys']"
      ]
     },
     "execution_count": 28,
     "metadata": {},
     "output_type": "execute_result"
    }
   ],
   "source": [
    "sample_tadpole_metadata"
   ]
  },
  {
   "cell_type": "code",
   "execution_count": null,
   "id": "f1f91373",
   "metadata": {},
   "outputs": [],
   "source": []
  }
 ],
 "metadata": {
  "kernelspec": {
   "display_name": "Python 3",
   "language": "python",
   "name": "python3"
  },
  "language_info": {
   "codemirror_mode": {
    "name": "ipython",
    "version": 3
   },
   "file_extension": ".py",
   "mimetype": "text/x-python",
   "name": "python",
   "nbconvert_exporter": "python",
   "pygments_lexer": "ipython3",
   "version": "3.8.8"
  }
 },
 "nbformat": 4,
 "nbformat_minor": 5
}
